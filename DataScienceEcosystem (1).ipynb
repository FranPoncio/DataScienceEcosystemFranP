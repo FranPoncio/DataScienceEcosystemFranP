{
  "metadata": {
    "kernelspec": {
      "name": "",
      "display_name": ""
    },
    "language_info": {
      "name": ""
    }
  },
  "nbformat_minor": 5,
  "nbformat": 4,
  "cells": [
    {
      "id": "7bec4bf9-c47c-450d-8e00-2809513b026e",
      "cell_type": "markdown",
      "source": "# Data Science Tools and Ecosystem",
      "metadata": {}
    },
    {
      "id": "d10c31ca-f24d-43ec-80d7-52193da74b7c",
      "cell_type": "markdown",
      "source": "In this notebook, Data Science Tools and Ecosystem are summarized.",
      "metadata": {}
    },
    {
      "id": "e7878815-c68f-4952-bcc8-576b699f5dfb",
      "cell_type": "markdown",
      "source": "Some of the popular languages that Data Scientists use are:\n1. Python\n2. R\n3. SQL\n4. Julia",
      "metadata": {}
    },
    {
      "id": "5738040a-db0a-4375-ba76-f03d87f66a95",
      "cell_type": "markdown",
      "source": "Some of the commonly used libraries used by Data Scientists include:\n1. Pandas\n2. NumPy\n3. Scikit-learn\n4. Matplotlib",
      "metadata": {}
    },
    {
      "id": "8964efc6-a66c-4e08-bc5e-19da12572538",
      "cell_type": "markdown",
      "source": "| Data Science Tools |\n|--------------------|\n| Jupyter Notebook   |\n| RStudio            |\n| Apache Zeppelin    |",
      "metadata": {}
    },
    {
      "id": "60b73759-8439-44f3-8704-325e0ee5567a",
      "cell_type": "markdown",
      "source": "### Below are a few examples of evaluating arithmetic expressions in Python.",
      "metadata": {}
    },
    {
      "id": "d2f7799e-7f73-471e-b547-abf21e29bf4c",
      "cell_type": "markdown",
      "source": "# This a simple arithmetic expression to multiply then add integers\n(3*4)+5",
      "metadata": {}
    },
    {
      "id": "921b9244-0bf6-4d73-a28d-fc0ac3488566",
      "cell_type": "markdown",
      "source": "# This will convert 200 minutes to hours by dividing by 60\n200 / 60",
      "metadata": {}
    },
    {
      "id": "2d5739c1-0e4a-421b-825a-c24d361410d5",
      "cell_type": "markdown",
      "source": "**Objectives:**\n- List popular languages for Data Science\n- List commonly used libraries in Data Science\n- Demonstrate arithmetic expressions in Python\n- Create tables and lists using Markdown",
      "metadata": {}
    },
    {
      "id": "f6cbcc2f-3eb8-4df6-b373-43b44012863d",
      "cell_type": "markdown",
      "source": "## Author\nFrancisco Javier Poncio",
      "metadata": {}
    }
  ]
}